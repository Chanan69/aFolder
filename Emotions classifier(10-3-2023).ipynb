{
 "cells": [
  {
   "cell_type": "code",
   "execution_count": 1,
   "id": "35eb9cd8",
   "metadata": {
    "scrolled": true
   },
   "outputs": [
    {
     "name": "stderr",
     "output_type": "stream",
     "text": [
      "C:\\Users\\Omer\\AppData\\Local\\Packages\\PythonSoftwareFoundation.Python.3.9_qbz5n2kfra8p0\\LocalCache\\local-packages\\Python39\\site-packages\\torchvision\\io\\image.py:11: UserWarning: Failed to load image Python extension: Could not find module 'C:\\Users\\Omer\\AppData\\Local\\Packages\\PythonSoftwareFoundation.Python.3.9_qbz5n2kfra8p0\\LocalCache\\local-packages\\Python39\\site-packages\\torchvision\\image.pyd' (or one of its dependencies). Try using the full path with constructor syntax.\n",
      "  warn(f\"Failed to load image Python extension: {e}\")\n"
     ]
    }
   ],
   "source": [
    "import pandas as pd\n",
    "import torch.nn as nn\n",
    "from tqdm.auto import tqdm\n",
    "import fasttext\n",
    "import fasttext.util\n",
    "import torch\n",
    "import numpy as np\n",
    "import seaborn as sns\n",
    "import matplotlib.pyplot as plt\n",
    "import time\n",
    "import torchmetrics"
   ]
  },
  {
   "cell_type": "code",
   "execution_count": 2,
   "id": "81ff61d7",
   "metadata": {},
   "outputs": [
    {
     "name": "stderr",
     "output_type": "stream",
     "text": [
      "Warning : `load_model` does not return WordVectorModel or SupervisedModel any more, but a `FastText` object which is very similar.\n"
     ]
    }
   ],
   "source": [
    "ft = fasttext.load_model('cc.en.300.bin')"
   ]
  },
  {
   "cell_type": "code",
   "execution_count": 3,
   "id": "7b972abc",
   "metadata": {},
   "outputs": [],
   "source": [
    "df=pd.read_table(\"dataset/train.txt\",delimiter=\";\",header=None,)\n",
    "df.columns=['Text','Label']\n",
    "df_test=pd.read_table(\"dataset/test.txt\",delimiter=\";\",header=None,)\n",
    "df_test.columns=['Text','Label']\n",
    "df_val=pd.read_table(\"dataset/val.txt\",delimiter=\";\",header=None,)\n",
    "df_val.columns=['Text','Label']"
   ]
  },
  {
   "cell_type": "code",
   "execution_count": 4,
   "id": "9fce307f",
   "metadata": {},
   "outputs": [
    {
     "data": {
      "text/html": [
       "<div>\n",
       "<style scoped>\n",
       "    .dataframe tbody tr th:only-of-type {\n",
       "        vertical-align: middle;\n",
       "    }\n",
       "\n",
       "    .dataframe tbody tr th {\n",
       "        vertical-align: top;\n",
       "    }\n",
       "\n",
       "    .dataframe thead th {\n",
       "        text-align: right;\n",
       "    }\n",
       "</style>\n",
       "<table border=\"1\" class=\"dataframe\">\n",
       "  <thead>\n",
       "    <tr style=\"text-align: right;\">\n",
       "      <th></th>\n",
       "      <th>Text</th>\n",
       "      <th>Label</th>\n",
       "    </tr>\n",
       "  </thead>\n",
       "  <tbody>\n",
       "    <tr>\n",
       "      <th>0</th>\n",
       "      <td>i didnt feel humiliated</td>\n",
       "      <td>sadness</td>\n",
       "    </tr>\n",
       "    <tr>\n",
       "      <th>1</th>\n",
       "      <td>i can go from feeling so hopeless to so damned...</td>\n",
       "      <td>sadness</td>\n",
       "    </tr>\n",
       "    <tr>\n",
       "      <th>2</th>\n",
       "      <td>im grabbing a minute to post i feel greedy wrong</td>\n",
       "      <td>anger</td>\n",
       "    </tr>\n",
       "    <tr>\n",
       "      <th>3</th>\n",
       "      <td>i am ever feeling nostalgic about the fireplac...</td>\n",
       "      <td>love</td>\n",
       "    </tr>\n",
       "    <tr>\n",
       "      <th>4</th>\n",
       "      <td>i am feeling grouchy</td>\n",
       "      <td>anger</td>\n",
       "    </tr>\n",
       "  </tbody>\n",
       "</table>\n",
       "</div>"
      ],
      "text/plain": [
       "                                                Text    Label\n",
       "0                            i didnt feel humiliated  sadness\n",
       "1  i can go from feeling so hopeless to so damned...  sadness\n",
       "2   im grabbing a minute to post i feel greedy wrong    anger\n",
       "3  i am ever feeling nostalgic about the fireplac...     love\n",
       "4                               i am feeling grouchy    anger"
      ]
     },
     "execution_count": 4,
     "metadata": {},
     "output_type": "execute_result"
    }
   ],
   "source": [
    "df.head()"
   ]
  },
  {
   "cell_type": "code",
   "execution_count": 5,
   "id": "aa961d5d",
   "metadata": {},
   "outputs": [
    {
     "data": {
      "text/plain": [
       "joy         5362\n",
       "sadness     4666\n",
       "anger       2159\n",
       "fear        1937\n",
       "love        1304\n",
       "surprise     572\n",
       "Name: Label, dtype: int64"
      ]
     },
     "execution_count": 5,
     "metadata": {},
     "output_type": "execute_result"
    }
   ],
   "source": [
    "df['Label'].value_counts()"
   ]
  },
  {
   "cell_type": "code",
   "execution_count": 6,
   "id": "186a4c77",
   "metadata": {},
   "outputs": [
    {
     "data": {
      "text/html": [
       "<div>\n",
       "<style scoped>\n",
       "    .dataframe tbody tr th:only-of-type {\n",
       "        vertical-align: middle;\n",
       "    }\n",
       "\n",
       "    .dataframe tbody tr th {\n",
       "        vertical-align: top;\n",
       "    }\n",
       "\n",
       "    .dataframe thead th {\n",
       "        text-align: right;\n",
       "    }\n",
       "</style>\n",
       "<table border=\"1\" class=\"dataframe\">\n",
       "  <thead>\n",
       "    <tr style=\"text-align: right;\">\n",
       "      <th></th>\n",
       "      <th>Text</th>\n",
       "      <th>Label</th>\n",
       "    </tr>\n",
       "  </thead>\n",
       "  <tbody>\n",
       "    <tr>\n",
       "      <th>0</th>\n",
       "      <td>i didnt feel humiliated</td>\n",
       "      <td>sadness</td>\n",
       "    </tr>\n",
       "    <tr>\n",
       "      <th>1</th>\n",
       "      <td>i can go from feeling so hopeless to so damned...</td>\n",
       "      <td>sadness</td>\n",
       "    </tr>\n",
       "    <tr>\n",
       "      <th>2</th>\n",
       "      <td>im grabbing a minute to post i feel greedy wrong</td>\n",
       "      <td>anger</td>\n",
       "    </tr>\n",
       "    <tr>\n",
       "      <th>3</th>\n",
       "      <td>i am ever feeling nostalgic about the fireplac...</td>\n",
       "      <td>love</td>\n",
       "    </tr>\n",
       "    <tr>\n",
       "      <th>4</th>\n",
       "      <td>i am feeling grouchy</td>\n",
       "      <td>anger</td>\n",
       "    </tr>\n",
       "  </tbody>\n",
       "</table>\n",
       "</div>"
      ],
      "text/plain": [
       "                                                Text    Label\n",
       "0                            i didnt feel humiliated  sadness\n",
       "1  i can go from feeling so hopeless to so damned...  sadness\n",
       "2   im grabbing a minute to post i feel greedy wrong    anger\n",
       "3  i am ever feeling nostalgic about the fireplac...     love\n",
       "4                               i am feeling grouchy    anger"
      ]
     },
     "execution_count": 6,
     "metadata": {},
     "output_type": "execute_result"
    }
   ],
   "source": [
    "df.head()"
   ]
  },
  {
   "cell_type": "code",
   "execution_count": 7,
   "id": "b48f749a",
   "metadata": {},
   "outputs": [],
   "source": [
    "embed_size=ft.get_word_vector('hello').shape[0]"
   ]
  },
  {
   "cell_type": "code",
   "execution_count": 8,
   "id": "9536ea5f",
   "metadata": {},
   "outputs": [],
   "source": [
    "def count_words(sentence):\n",
    "    words = sentence.lower().split()\n",
    "    return len(words)"
   ]
  },
  {
   "cell_type": "code",
   "execution_count": 9,
   "id": "30711073",
   "metadata": {},
   "outputs": [],
   "source": [
    "df['Text_length'] = df['Text'].apply(count_words)\n",
    "df_test['Text_length'] = df_test['Text'].apply(count_words)\n",
    "df_val['Text_length'] = df_val['Text'].apply(count_words)"
   ]
  },
  {
   "cell_type": "code",
   "execution_count": 10,
   "id": "596d3841",
   "metadata": {},
   "outputs": [
    {
     "data": {
      "text/plain": [
       "Text           a boyfriend with whom i split up with came ove...\n",
       "Label                                                      anger\n",
       "Text_length                                                    2\n",
       "dtype: object"
      ]
     },
     "execution_count": 10,
     "metadata": {},
     "output_type": "execute_result"
    }
   ],
   "source": [
    "df.min()"
   ]
  },
  {
   "cell_type": "code",
   "execution_count": 11,
   "id": "749d116d",
   "metadata": {},
   "outputs": [
    {
     "data": {
      "image/png": "[encoded data removed]",
      "text/plain": [
       "<Figure size 720x432 with 1 Axes>"
      ]
     },
     "metadata": {
      "needs_background": "light"
     },
     "output_type": "display_data"
    }
   ],
   "source": [
    "fig=plt.figure(figsize=(10,6))\n",
    "\n",
    "sns.kdeplot(\n",
    "    x=df['Text_length'],\n",
    "    hue=df['Label']\n",
    ")\n",
    "plt.show()"
   ]
  },
  {
   "cell_type": "code",
   "execution_count": 12,
   "id": "f7439d65",
   "metadata": {},
   "outputs": [
    {
     "data": {
      "image/png": "[encoded data removed]",
      "text/plain": [
       "<Figure size 720x432 with 1 Axes>"
      ]
     },
     "metadata": {
      "needs_background": "light"
     },
     "output_type": "display_data"
    }
   ],
   "source": [
    "fig=plt.figure(figsize=(10,6))\n",
    "\n",
    "sns.kdeplot(\n",
    "    x=df_test['Text_length'],\n",
    "    hue=df_test['Label']\n",
    ")\n",
    "plt.show()"
   ]
  },
  {
   "cell_type": "code",
   "execution_count": 13,
   "id": "6a84830f",
   "metadata": {},
   "outputs": [
    {
     "data": {
      "text/html": [
       "<div>\n",
       "<style scoped>\n",
       "    .dataframe tbody tr th:only-of-type {\n",
       "        vertical-align: middle;\n",
       "    }\n",
       "\n",
       "    .dataframe tbody tr th {\n",
       "        vertical-align: top;\n",
       "    }\n",
       "\n",
       "    .dataframe thead th {\n",
       "        text-align: right;\n",
       "    }\n",
       "</style>\n",
       "<table border=\"1\" class=\"dataframe\">\n",
       "  <thead>\n",
       "    <tr style=\"text-align: right;\">\n",
       "      <th></th>\n",
       "      <th>Text_length</th>\n",
       "    </tr>\n",
       "  </thead>\n",
       "  <tbody>\n",
       "    <tr>\n",
       "      <th>count</th>\n",
       "      <td>16000.000000</td>\n",
       "    </tr>\n",
       "    <tr>\n",
       "      <th>mean</th>\n",
       "      <td>19.166313</td>\n",
       "    </tr>\n",
       "    <tr>\n",
       "      <th>std</th>\n",
       "      <td>10.986905</td>\n",
       "    </tr>\n",
       "    <tr>\n",
       "      <th>min</th>\n",
       "      <td>2.000000</td>\n",
       "    </tr>\n",
       "    <tr>\n",
       "      <th>25%</th>\n",
       "      <td>11.000000</td>\n",
       "    </tr>\n",
       "    <tr>\n",
       "      <th>50%</th>\n",
       "      <td>17.000000</td>\n",
       "    </tr>\n",
       "    <tr>\n",
       "      <th>75%</th>\n",
       "      <td>25.000000</td>\n",
       "    </tr>\n",
       "    <tr>\n",
       "      <th>max</th>\n",
       "      <td>66.000000</td>\n",
       "    </tr>\n",
       "  </tbody>\n",
       "</table>\n",
       "</div>"
      ],
      "text/plain": [
       "        Text_length\n",
       "count  16000.000000\n",
       "mean      19.166313\n",
       "std       10.986905\n",
       "min        2.000000\n",
       "25%       11.000000\n",
       "50%       17.000000\n",
       "75%       25.000000\n",
       "max       66.000000"
      ]
     },
     "execution_count": 13,
     "metadata": {},
     "output_type": "execute_result"
    }
   ],
   "source": [
    "df[['Text_length']].describe()"
   ]
  },
  {
   "cell_type": "code",
   "execution_count": 14,
   "id": "1beca412",
   "metadata": {},
   "outputs": [],
   "source": [
    "df = df[df.Text_length <= 30]\n",
    "df_test = df_test[df_test.Text_length <= 30]\n",
    "df_val = df_val[df_val.Text_length <= 30]"
   ]
  },
  {
   "cell_type": "code",
   "execution_count": 15,
   "id": "9c855e10",
   "metadata": {},
   "outputs": [
    {
     "name": "stdout",
     "output_type": "stream",
     "text": [
      "test:\n",
      "Text           1690\n",
      "Label          1690\n",
      "Text_length    1690\n",
      "dtype: int64\n",
      "val:\n",
      "Text           1715\n",
      "Label          1715\n",
      "Text_length    1715\n",
      "dtype: int64\n"
     ]
    }
   ],
   "source": [
    "print('test:')\n",
    "print(df_test.count())\n",
    "print('val:')\n",
    "print(df_val.count())"
   ]
  },
  {
   "cell_type": "code",
   "execution_count": 16,
   "id": "b5f9136e",
   "metadata": {},
   "outputs": [
    {
     "name": "stdout",
     "output_type": "stream",
     "text": [
      "<class 'pandas.core.frame.DataFrame'>\n",
      "Int64Index: 13601 entries, 0 to 15999\n",
      "Data columns (total 3 columns):\n",
      " #   Column       Non-Null Count  Dtype \n",
      "---  ------       --------------  ----- \n",
      " 0   Text         13601 non-null  object\n",
      " 1   Label        13601 non-null  object\n",
      " 2   Text_length  13601 non-null  int64 \n",
      "dtypes: int64(1), object(2)\n",
      "memory usage: 425.0+ KB\n"
     ]
    }
   ],
   "source": [
    "df.info()"
   ]
  },
  {
   "cell_type": "code",
   "execution_count": 17,
   "id": "3917c8b2",
   "metadata": {},
   "outputs": [
    {
     "data": {
      "image/png": "[encoded data removed]",
      "text/plain": [
       "<Figure size 720x432 with 1 Axes>"
      ]
     },
     "metadata": {
      "needs_background": "light"
     },
     "output_type": "display_data"
    }
   ],
   "source": [
    "fig=plt.figure(figsize=(10,6))\n",
    "\n",
    "sns.kdeplot(\n",
    "    x=df['Text_length'],\n",
    "    hue=df['Label']\n",
    ")\n",
    "plt.show()"
   ]
  },
  {
   "cell_type": "code",
   "execution_count": 18,
   "id": "a23ffa5f",
   "metadata": {},
   "outputs": [
    {
     "data": {
      "text/plain": [
       "joy         4556\n",
       "sadness     4026\n",
       "anger       1802\n",
       "fear        1658\n",
       "love        1079\n",
       "surprise     480\n",
       "Name: Label, dtype: int64"
      ]
     },
     "execution_count": 18,
     "metadata": {},
     "output_type": "execute_result"
    }
   ],
   "source": [
    "df['Label'].value_counts()"
   ]
  },
  {
   "cell_type": "code",
   "execution_count": 19,
   "id": "70bd7613",
   "metadata": {},
   "outputs": [],
   "source": [
    "joy=df[df['Label']=='joy'];\n",
    "sadness=df[df['Label']=='sadness'];\n",
    "anger=df[df['Label']=='anger'];\n",
    "fear=df[df['Label']=='fear'];\n",
    "love=df[df['Label']=='love'];\n",
    "surprise=df[df['Label']=='surprise'];\n",
    "\n",
    "joy=joy.sample(2500);\n",
    "sadness=sadness.sample(2500)\n",
    "\n",
    "df=pd.concat([joy,sadness,anger,fear,love,surprise])"
   ]
  },
  {
   "cell_type": "code",
   "execution_count": 20,
   "id": "b37ff9aa",
   "metadata": {},
   "outputs": [
    {
     "data": {
      "text/plain": [
       "joy         2500\n",
       "sadness     2500\n",
       "anger       1802\n",
       "fear        1658\n",
       "love        1079\n",
       "surprise     480\n",
       "Name: Label, dtype: int64"
      ]
     },
     "execution_count": 20,
     "metadata": {},
     "output_type": "execute_result"
    }
   ],
   "source": [
    "df['Label'].value_counts()"
   ]
  },
  {
   "cell_type": "code",
   "execution_count": 21,
   "id": "e89c648c",
   "metadata": {},
   "outputs": [
    {
     "data": {
      "image/png": "[encoded data removed]",
      "text/plain": [
       "<Figure size 720x432 with 1 Axes>"
      ]
     },
     "metadata": {
      "needs_background": "light"
     },
     "output_type": "display_data"
    }
   ],
   "source": [
    "fig=plt.figure(figsize=(10,6))\n",
    "\n",
    "sns.kdeplot(\n",
    "    x=df['Text_length'],\n",
    "    hue=df['Label']\n",
    ")\n",
    "plt.show()"
   ]
  },
  {
   "cell_type": "code",
   "execution_count": 22,
   "id": "69adb13c",
   "metadata": {},
   "outputs": [
    {
     "data": {
      "text/html": [
       "<div>\n",
       "<style scoped>\n",
       "    .dataframe tbody tr th:only-of-type {\n",
       "        vertical-align: middle;\n",
       "    }\n",
       "\n",
       "    .dataframe tbody tr th {\n",
       "        vertical-align: top;\n",
       "    }\n",
       "\n",
       "    .dataframe thead th {\n",
       "        text-align: right;\n",
       "    }\n",
       "</style>\n",
       "<table border=\"1\" class=\"dataframe\">\n",
       "  <thead>\n",
       "    <tr style=\"text-align: right;\">\n",
       "      <th></th>\n",
       "      <th>Text</th>\n",
       "      <th>Label</th>\n",
       "      <th>Text_length</th>\n",
       "    </tr>\n",
       "  </thead>\n",
       "  <tbody>\n",
       "    <tr>\n",
       "      <th>15239</th>\n",
       "      <td>i feel angry because instead of asking how am ...</td>\n",
       "      <td>anger</td>\n",
       "      <td>30</td>\n",
       "    </tr>\n",
       "  </tbody>\n",
       "</table>\n",
       "</div>"
      ],
      "text/plain": [
       "                                                    Text  Label  Text_length\n",
       "15239  i feel angry because instead of asking how am ...  anger           30"
      ]
     },
     "execution_count": 22,
     "metadata": {},
     "output_type": "execute_result"
    }
   ],
   "source": [
    "df[df['Text_length']==30].sample(1)"
   ]
  },
  {
   "cell_type": "code",
   "execution_count": 23,
   "id": "715d16b2",
   "metadata": {},
   "outputs": [],
   "source": [
    "y_train = pd.get_dummies(df.Label, prefix='Label')"
   ]
  },
  {
   "cell_type": "code",
   "execution_count": 24,
   "id": "d38894ee",
   "metadata": {},
   "outputs": [],
   "source": [
    "# y_train=df['Label'].map({'anger':0,'fear':1,'joy':2,'love':3,'sadness':4,'surprise':5 })"
   ]
  },
  {
   "cell_type": "code",
   "execution_count": 24,
   "id": "6c83fc35",
   "metadata": {},
   "outputs": [
    {
     "data": {
      "text/html": [
       "<div>\n",
       "<style scoped>\n",
       "    .dataframe tbody tr th:only-of-type {\n",
       "        vertical-align: middle;\n",
       "    }\n",
       "\n",
       "    .dataframe tbody tr th {\n",
       "        vertical-align: top;\n",
       "    }\n",
       "\n",
       "    .dataframe thead th {\n",
       "        text-align: right;\n",
       "    }\n",
       "</style>\n",
       "<table border=\"1\" class=\"dataframe\">\n",
       "  <thead>\n",
       "    <tr style=\"text-align: right;\">\n",
       "      <th></th>\n",
       "      <th>Label_anger</th>\n",
       "      <th>Label_fear</th>\n",
       "      <th>Label_joy</th>\n",
       "      <th>Label_love</th>\n",
       "      <th>Label_sadness</th>\n",
       "      <th>Label_surprise</th>\n",
       "    </tr>\n",
       "  </thead>\n",
       "  <tbody>\n",
       "    <tr>\n",
       "      <th>12830</th>\n",
       "      <td>0</td>\n",
       "      <td>0</td>\n",
       "      <td>1</td>\n",
       "      <td>0</td>\n",
       "      <td>0</td>\n",
       "      <td>0</td>\n",
       "    </tr>\n",
       "    <tr>\n",
       "      <th>4108</th>\n",
       "      <td>0</td>\n",
       "      <td>0</td>\n",
       "      <td>1</td>\n",
       "      <td>0</td>\n",
       "      <td>0</td>\n",
       "      <td>0</td>\n",
       "    </tr>\n",
       "    <tr>\n",
       "      <th>1015</th>\n",
       "      <td>0</td>\n",
       "      <td>0</td>\n",
       "      <td>1</td>\n",
       "      <td>0</td>\n",
       "      <td>0</td>\n",
       "      <td>0</td>\n",
       "    </tr>\n",
       "    <tr>\n",
       "      <th>343</th>\n",
       "      <td>0</td>\n",
       "      <td>0</td>\n",
       "      <td>1</td>\n",
       "      <td>0</td>\n",
       "      <td>0</td>\n",
       "      <td>0</td>\n",
       "    </tr>\n",
       "    <tr>\n",
       "      <th>2969</th>\n",
       "      <td>0</td>\n",
       "      <td>0</td>\n",
       "      <td>1</td>\n",
       "      <td>0</td>\n",
       "      <td>0</td>\n",
       "      <td>0</td>\n",
       "    </tr>\n",
       "  </tbody>\n",
       "</table>\n",
       "</div>"
      ],
      "text/plain": [
       "       Label_anger  Label_fear  Label_joy  Label_love  Label_sadness  \\\n",
       "12830            0           0          1           0              0   \n",
       "4108             0           0          1           0              0   \n",
       "1015             0           0          1           0              0   \n",
       "343              0           0          1           0              0   \n",
       "2969             0           0          1           0              0   \n",
       "\n",
       "       Label_surprise  \n",
       "12830               0  \n",
       "4108                0  \n",
       "1015                0  \n",
       "343                 0  \n",
       "2969                0  "
      ]
     },
     "execution_count": 24,
     "metadata": {},
     "output_type": "execute_result"
    }
   ],
   "source": [
    "y_train.head()"
   ]
  },
  {
   "cell_type": "code",
   "execution_count": 25,
   "id": "ce809981",
   "metadata": {},
   "outputs": [],
   "source": [
    "y_test = pd.get_dummies(df_test.Label, prefix='Label')\n",
    "y_val = pd.get_dummies(df_val.Label, prefix='Label')"
   ]
  },
  {
   "cell_type": "code",
   "execution_count": 27,
   "id": "13a3c193",
   "metadata": {},
   "outputs": [],
   "source": [
    "# y_test = df_test['Label'].map({'anger':0,'fear':1,'joy':2,'love':3,'sadness':4,'surprise':5 })\n",
    "# y_val = df_val['Label'].map({'anger':0,'fear':1,'joy':2,'love':3,'sadness':4,'surprise':5 })"
   ]
  },
  {
   "cell_type": "code",
   "execution_count": 26,
   "id": "a48bd1f4",
   "metadata": {
    "scrolled": false
   },
   "outputs": [
    {
     "data": {
      "text/html": [
       "<div>\n",
       "<style scoped>\n",
       "    .dataframe tbody tr th:only-of-type {\n",
       "        vertical-align: middle;\n",
       "    }\n",
       "\n",
       "    .dataframe tbody tr th {\n",
       "        vertical-align: top;\n",
       "    }\n",
       "\n",
       "    .dataframe thead th {\n",
       "        text-align: right;\n",
       "    }\n",
       "</style>\n",
       "<table border=\"1\" class=\"dataframe\">\n",
       "  <thead>\n",
       "    <tr style=\"text-align: right;\">\n",
       "      <th></th>\n",
       "      <th>Label_anger</th>\n",
       "      <th>Label_fear</th>\n",
       "      <th>Label_joy</th>\n",
       "      <th>Label_love</th>\n",
       "      <th>Label_sadness</th>\n",
       "      <th>Label_surprise</th>\n",
       "    </tr>\n",
       "  </thead>\n",
       "  <tbody>\n",
       "    <tr>\n",
       "      <th>count</th>\n",
       "      <td>10019.000000</td>\n",
       "      <td>10019.000000</td>\n",
       "      <td>10019.000000</td>\n",
       "      <td>10019.000000</td>\n",
       "      <td>10019.000000</td>\n",
       "      <td>10019.000000</td>\n",
       "    </tr>\n",
       "    <tr>\n",
       "      <th>mean</th>\n",
       "      <td>0.179858</td>\n",
       "      <td>0.165486</td>\n",
       "      <td>0.249526</td>\n",
       "      <td>0.107695</td>\n",
       "      <td>0.249526</td>\n",
       "      <td>0.047909</td>\n",
       "    </tr>\n",
       "    <tr>\n",
       "      <th>std</th>\n",
       "      <td>0.384089</td>\n",
       "      <td>0.371637</td>\n",
       "      <td>0.432760</td>\n",
       "      <td>0.310011</td>\n",
       "      <td>0.432760</td>\n",
       "      <td>0.213584</td>\n",
       "    </tr>\n",
       "    <tr>\n",
       "      <th>min</th>\n",
       "      <td>0.000000</td>\n",
       "      <td>0.000000</td>\n",
       "      <td>0.000000</td>\n",
       "      <td>0.000000</td>\n",
       "      <td>0.000000</td>\n",
       "      <td>0.000000</td>\n",
       "    </tr>\n",
       "    <tr>\n",
       "      <th>25%</th>\n",
       "      <td>0.000000</td>\n",
       "      <td>0.000000</td>\n",
       "      <td>0.000000</td>\n",
       "      <td>0.000000</td>\n",
       "      <td>0.000000</td>\n",
       "      <td>0.000000</td>\n",
       "    </tr>\n",
       "    <tr>\n",
       "      <th>50%</th>\n",
       "      <td>0.000000</td>\n",
       "      <td>0.000000</td>\n",
       "      <td>0.000000</td>\n",
       "      <td>0.000000</td>\n",
       "      <td>0.000000</td>\n",
       "      <td>0.000000</td>\n",
       "    </tr>\n",
       "    <tr>\n",
       "      <th>75%</th>\n",
       "      <td>0.000000</td>\n",
       "      <td>0.000000</td>\n",
       "      <td>0.000000</td>\n",
       "      <td>0.000000</td>\n",
       "      <td>0.000000</td>\n",
       "      <td>0.000000</td>\n",
       "    </tr>\n",
       "    <tr>\n",
       "      <th>max</th>\n",
       "      <td>1.000000</td>\n",
       "      <td>1.000000</td>\n",
       "      <td>1.000000</td>\n",
       "      <td>1.000000</td>\n",
       "      <td>1.000000</td>\n",
       "      <td>1.000000</td>\n",
       "    </tr>\n",
       "  </tbody>\n",
       "</table>\n",
       "</div>"
      ],
      "text/plain": [
       "        Label_anger    Label_fear     Label_joy    Label_love  Label_sadness  \\\n",
       "count  10019.000000  10019.000000  10019.000000  10019.000000   10019.000000   \n",
       "mean       0.179858      0.165486      0.249526      0.107695       0.249526   \n",
       "std        0.384089      0.371637      0.432760      0.310011       0.432760   \n",
       "min        0.000000      0.000000      0.000000      0.000000       0.000000   \n",
       "25%        0.000000      0.000000      0.000000      0.000000       0.000000   \n",
       "50%        0.000000      0.000000      0.000000      0.000000       0.000000   \n",
       "75%        0.000000      0.000000      0.000000      0.000000       0.000000   \n",
       "max        1.000000      1.000000      1.000000      1.000000       1.000000   \n",
       "\n",
       "       Label_surprise  \n",
       "count    10019.000000  \n",
       "mean         0.047909  \n",
       "std          0.213584  \n",
       "min          0.000000  \n",
       "25%          0.000000  \n",
       "50%          0.000000  \n",
       "75%          0.000000  \n",
       "max          1.000000  "
      ]
     },
     "execution_count": 26,
     "metadata": {},
     "output_type": "execute_result"
    }
   ],
   "source": [
    "y_train.describe()"
   ]
  },
  {
   "cell_type": "code",
   "execution_count": 27,
   "id": "be817674",
   "metadata": {},
   "outputs": [],
   "source": [
    "def sentence_to_numbers(sentence): #embed sentence, and zero pad before sentence\n",
    "    words = sentence.lower().split()\n",
    "    embedded_words = np.zeros([30,300]) #text length 30, embed vector 300\n",
    "    j=29-len(words) #\n",
    "    for w in words:\n",
    "        embedded_words[j] = ft.get_word_vector(w)\n",
    "        j+=1\n",
    "    return embedded_words"
   ]
  },
  {
   "cell_type": "code",
   "execution_count": 29,
   "id": "5609d8ab",
   "metadata": {},
   "outputs": [
    {
     "name": "stdout",
     "output_type": "stream",
     "text": [
      "<class 'pandas.core.frame.DataFrame'>\n",
      "Int64Index: 10019 entries, 12830 to 15970\n",
      "Data columns (total 3 columns):\n",
      " #   Column       Non-Null Count  Dtype \n",
      "---  ------       --------------  ----- \n",
      " 0   Text         10019 non-null  object\n",
      " 1   Label        10019 non-null  object\n",
      " 2   Text_length  10019 non-null  int64 \n",
      "dtypes: int64(1), object(2)\n",
      "memory usage: 313.1+ KB\n"
     ]
    }
   ],
   "source": [
    "df.info()"
   ]
  },
  {
   "cell_type": "code",
   "execution_count": 59,
   "id": "f8d48dee",
   "metadata": {},
   "outputs": [],
   "source": [
    "x_train = np.full([10019,30,embed_size], -1e9)\n",
    "j=0\n",
    "for sentence in df.Text:\n",
    "    x_train[j] = sentence_to_numbers(sentence)\n",
    "    j+=1"
   ]
  },
  {
   "cell_type": "code",
   "execution_count": 69,
   "id": "7be30fb1",
   "metadata": {},
   "outputs": [
    {
     "name": "stdout",
     "output_type": "stream",
     "text": [
      "<class 'pandas.core.frame.DataFrame'>\n",
      "Int64Index: 1690 entries, 0 to 1999\n",
      "Data columns (total 3 columns):\n",
      " #   Column       Non-Null Count  Dtype \n",
      "---  ------       --------------  ----- \n",
      " 0   Text         1690 non-null   object\n",
      " 1   Label        1690 non-null   object\n",
      " 2   Text_length  1690 non-null   int64 \n",
      "dtypes: int64(1), object(2)\n",
      "memory usage: 52.8+ KB\n"
     ]
    }
   ],
   "source": [
    "df_test.info()"
   ]
  },
  {
   "cell_type": "code",
   "execution_count": 70,
   "id": "e89464a4",
   "metadata": {},
   "outputs": [],
   "source": [
    "x_test = np.full([1690,30,embed_size], -1e9)\n",
    "j=0\n",
    "for sentence in df_test.Text:\n",
    "    embbeded_sentence = sentence_to_numbers(sentence)\n",
    "    x_test[j] = embbeded_sentence\n",
    "    j+=1"
   ]
  },
  {
   "cell_type": "code",
   "execution_count": 71,
   "id": "8d37e100",
   "metadata": {},
   "outputs": [
    {
     "name": "stdout",
     "output_type": "stream",
     "text": [
      "<class 'pandas.core.frame.DataFrame'>\n",
      "Int64Index: 1715 entries, 0 to 1999\n",
      "Data columns (total 3 columns):\n",
      " #   Column       Non-Null Count  Dtype \n",
      "---  ------       --------------  ----- \n",
      " 0   Text         1715 non-null   object\n",
      " 1   Label        1715 non-null   object\n",
      " 2   Text_length  1715 non-null   int64 \n",
      "dtypes: int64(1), object(2)\n",
      "memory usage: 53.6+ KB\n"
     ]
    }
   ],
   "source": [
    "df_val.info()"
   ]
  },
  {
   "cell_type": "code",
   "execution_count": 72,
   "id": "b77af515",
   "metadata": {},
   "outputs": [],
   "source": [
    "x_val = np.full([1715,30,embed_size], -1e9)\n",
    "j=0\n",
    "for sentence in df_val.Text:\n",
    "    x_val[j] = sentence_to_numbers(sentence)\n",
    "    j+=1"
   ]
  },
  {
   "cell_type": "code",
   "execution_count": 73,
   "id": "1c55c6a0",
   "metadata": {},
   "outputs": [],
   "source": [
    "def get_device():\n",
    "    if torch.cuda.is_available():\n",
    "        device = torch.device('cuda:0')\n",
    "    else:\n",
    "        device = torch.device('cpu') # don't have GPU \n",
    "    return device\n",
    "\n",
    "# convert a df to tensor to be used in pytorch\n",
    "def df_to_tensor(df):\n",
    "    device = get_device()\n",
    "    return torch.from_numpy(df.values).float().to(device)"
   ]
  },
  {
   "cell_type": "code",
   "execution_count": 74,
   "id": "ee6d6cf8",
   "metadata": {},
   "outputs": [],
   "source": [
    "x_train_tensor = torch.tensor(x_train).to('cuda')\n",
    "y_train_tensor = df_to_tensor(y_train).to('cuda')"
   ]
  },
  {
   "cell_type": "code",
   "execution_count": 75,
   "id": "a4183067",
   "metadata": {},
   "outputs": [],
   "source": [
    "x_test_tensor = torch.tensor(x_test).to('cuda')\n",
    "y_test_tensor = df_to_tensor(y_test).to('cuda')\n",
    "x_val_tensor = torch.tensor(x_val).to('cuda')\n",
    "y_val_tensor = df_to_tensor(y_val).to('cuda')"
   ]
  },
  {
   "cell_type": "code",
   "execution_count": 168,
   "id": "0b530385",
   "metadata": {},
   "outputs": [],
   "source": [
    "class RNN(nn.Module):\n",
    "    def __init__(self, input_size, hidden_size, output_size):\n",
    "        super(RNN, self).__init__()\n",
    "        \n",
    "        self.hidden_size = hidden_size\n",
    "        \n",
    "        self.lstm = nn.LSTM(input_size = input_size, hidden_size = hidden_size, num_layers = 1, batch_first = True)\n",
    "        self.linear = nn.Linear(hidden_size, output_size)\n",
    "        self.softmax = nn.Softmax(dim=1)\n",
    "        self.dropout = nn.Dropout(0.3)\n",
    "    \n",
    "    def forward(self, input):\n",
    "        l1, (h_n, c_n) = self.lstm(input.float())\n",
    "        dropout = self.dropout(l1[:, -1, :])\n",
    "        l2 = self.linear(dropout)\n",
    "        output = self.softmax(l2)\n",
    "        \n",
    "        return output\n",
    "    "
   ]
  },
  {
   "cell_type": "code",
   "execution_count": 169,
   "id": "9fc02302",
   "metadata": {},
   "outputs": [],
   "source": [
    "n_hidden = 128\n",
    "n_categories = 6\n",
    "learning_rate = 0.0001\n",
    "rnn_model = RNN(input_size=embed_size, hidden_size=n_hidden, output_size=n_categories)\n",
    "criterion = nn.CrossEntropyLoss()\n",
    "optimizer = torch.optim.Adam(rnn_model.parameters(), lr=learning_rate)"
   ]
  },
  {
   "cell_type": "code",
   "execution_count": 170,
   "id": "6a13c30b",
   "metadata": {},
   "outputs": [
    {
     "name": "stdout",
     "output_type": "stream",
     "text": [
      "torch.Size([10019, 30, 300])\n",
      "torch.Size([10019, 6])\n"
     ]
    }
   ],
   "source": [
    "print(x_train_tensor.shape)\n",
    "print(y_train_tensor.shape)"
   ]
  },
  {
   "cell_type": "code",
   "execution_count": 171,
   "id": "bfcc1021",
   "metadata": {},
   "outputs": [],
   "source": [
    "trainloader = torch.utils.data.DataLoader([ [x_train_tensor[i], y_train_tensor[i]] for i in range(len(y_train_tensor))], shuffle=True, batch_size=16)\n",
    "validationloader = torch.utils.data.DataLoader([ [x_val_tensor[i], y_val_tensor[i]] for i in range(len(y_val_tensor))], shuffle=True, batch_size=128)"
   ]
  },
  {
   "cell_type": "code",
   "execution_count": 172,
   "id": "f4c49b81",
   "metadata": {},
   "outputs": [],
   "source": [
    "train_accuracy = torchmetrics.Accuracy(task='multilabel',num_labels=n_categories, average='macro').to('cuda')\n",
    "val_accuracy = torchmetrics.Accuracy(task='multilabel',num_labels=n_categories, average='macro').to('cuda')"
   ]
  },
  {
   "cell_type": "code",
   "execution_count": 173,
   "id": "a5810ec0",
   "metadata": {
    "scrolled": true
   },
   "outputs": [
    {
     "name": "stdout",
     "output_type": "stream",
     "text": [
      "stating training...\n",
      "epoch 0, 0.0020012855529785156s\n"
     ]
    },
    {
     "name": "stderr",
     "output_type": "stream",
     "text": [
      "C:\\Users\\Omer\\AppData\\Local\\Temp\\ipykernel_11932\\1720176066.py:27: UserWarning: torch.nn.utils.clip_grad_norm is now deprecated in favor of torch.nn.utils.clip_grad_norm_.\n",
      "  nn.utils.clip_grad_norm(rnn_model.parameters(), 5)\n"
     ]
    },
    {
     "name": "stdout",
     "output_type": "stream",
     "text": [
      "Accuracy on batch 100: 0.8333332538604736\n",
      "Accuracy on batch 200: 0.78125\n",
      "Accuracy on batch 300: 0.8333333730697632\n",
      "Accuracy on batch 400: 0.7291666865348816\n",
      "Accuracy on batch 500: 0.8229166269302368\n",
      "Accuracy on batch 600: 0.8229167461395264\n",
      "epoch loss sum: 69.01098955919345\n",
      "tensor([[0.0997, 0.0553, 0.3901, 0.0038, 0.4493, 0.0018],\n",
      "        [0.0807, 0.0267, 0.3716, 0.0024, 0.5173, 0.0013],\n",
      "        [0.0819, 0.0302, 0.4144, 0.0046, 0.4668, 0.0020]], device='cuda:0',\n",
      "       grad_fn=<SoftmaxBackward0>)\n",
      "Validation accuracy on Epoch 0: 0.8333333730697632\n",
      "epoch 1, 3.246650457382202s\n",
      "Accuracy on batch 100: 0.7916666865348816\n",
      "Accuracy on batch 200: 0.7395833134651184\n",
      "Accuracy on batch 300: 0.8229166269302368\n",
      "Accuracy on batch 400: 0.8125000596046448\n",
      "Accuracy on batch 500: 0.7500000596046448\n",
      "Accuracy on batch 600: 0.7708333730697632\n",
      "epoch loss sum: 68.36823017150164\n",
      "tensor([[9.7608e-02, 6.6207e-02, 3.8779e-01, 3.5723e-03, 4.4330e-01, 1.5281e-03],\n",
      "        [5.2095e-02, 2.1175e-02, 6.3640e-01, 1.8669e-03, 2.8788e-01, 5.8427e-04],\n",
      "        [1.8080e-01, 1.1063e-01, 2.7148e-01, 2.9792e-02, 3.8517e-01, 2.2136e-02]],\n",
      "       device='cuda:0', grad_fn=<SoftmaxBackward0>)\n",
      "Validation accuracy on Epoch 1: 0.8244898319244385\n",
      "epoch 2, 6.465764999389648s\n",
      "Accuracy on batch 100: 0.7291666865348816\n",
      "Accuracy on batch 200: 0.71875\n",
      "Accuracy on batch 300: 0.78125\n",
      "Accuracy on batch 400: 0.7916666865348816\n",
      "Accuracy on batch 500: 0.7708333730697632\n",
      "Accuracy on batch 600: 0.75\n",
      "epoch loss sum: 67.43412024279435\n",
      "tensor([[1.5510e-01, 5.7227e-02, 1.1676e-01, 3.7393e-03, 6.6556e-01, 1.6116e-03],\n",
      "        [7.9782e-02, 2.6402e-02, 2.5927e-01, 6.4680e-04, 6.3362e-01, 2.7940e-04],\n",
      "        [2.1564e-02, 5.5575e-03, 8.8528e-01, 5.4098e-04, 8.6876e-02, 1.8124e-04]],\n",
      "       device='cuda:0', grad_fn=<SoftmaxBackward0>)\n",
      "Validation accuracy on Epoch 2: 0.822060227394104\n",
      "epoch 3, 9.565062761306763s\n",
      "Accuracy on batch 100: 0.8020833730697632\n",
      "Accuracy on batch 200: 0.7916666269302368\n",
      "Accuracy on batch 300: 0.8020833134651184\n",
      "Accuracy on batch 400: 0.7916666865348816\n",
      "Accuracy on batch 500: 0.875\n",
      "Accuracy on batch 600: 0.7708333134651184\n",
      "epoch loss sum: 66.29635844379663\n",
      "tensor([[4.5183e-03, 1.3114e-03, 9.8373e-01, 1.3014e-04, 1.0279e-02, 3.0807e-05],\n",
      "        [1.5625e-01, 4.1529e-02, 2.2577e-01, 2.4455e-03, 5.7302e-01, 9.8372e-04],\n",
      "        [1.3828e-01, 4.5864e-02, 2.1349e-01, 2.8838e-03, 5.9778e-01, 1.6982e-03]],\n",
      "       device='cuda:0', grad_fn=<SoftmaxBackward0>)\n",
      "Validation accuracy on Epoch 3: 0.8232507705688477\n",
      "epoch 4, 12.623664855957031s\n",
      "Accuracy on batch 100: 0.8229166865348816\n",
      "Accuracy on batch 200: 0.7708333730697632\n",
      "Accuracy on batch 300: 0.7500000596046448\n",
      "Accuracy on batch 400: 0.8020833134651184\n",
      "Accuracy on batch 500: 0.7916666865348816\n",
      "Accuracy on batch 600: 0.7916666269302368\n",
      "epoch loss sum: 65.44153967003028\n",
      "tensor([[4.1989e-03, 9.0830e-04, 9.8621e-01, 8.7857e-05, 8.5632e-03, 3.1699e-05],\n",
      "        [4.9742e-02, 7.3544e-03, 8.1936e-01, 2.3338e-04, 1.2321e-01, 9.5840e-05],\n",
      "        [5.0505e-03, 1.2673e-03, 9.8148e-01, 9.7728e-05, 1.2086e-02, 1.8967e-05]],\n",
      "       device='cuda:0', grad_fn=<SoftmaxBackward0>)\n",
      "Validation accuracy on Epoch 4: 0.8230320811271667\n",
      "epoch 5, 15.685518026351929s\n",
      "Accuracy on batch 100: 0.8020833730697632\n",
      "Accuracy on batch 200: 0.8020833134651184\n",
      "Accuracy on batch 300: 0.7916666865348816\n",
      "Accuracy on batch 400: 0.7916667461395264\n",
      "Accuracy on batch 500: 0.8333333730697632\n",
      "Accuracy on batch 600: 0.7916666865348816\n",
      "epoch loss sum: 65.11994316925605\n",
      "tensor([[2.4642e-01, 7.2794e-02, 1.3813e-01, 6.4456e-03, 5.3167e-01, 4.5360e-03],\n",
      "        [3.6707e-02, 1.5183e-02, 8.5547e-01, 9.9731e-04, 9.1141e-02, 5.0079e-04],\n",
      "        [1.5437e-01, 2.7043e-02, 9.3383e-02, 4.2638e-04, 7.2461e-01, 1.7217e-04]],\n",
      "       device='cuda:0', grad_fn=<SoftmaxBackward0>)\n",
      "Validation accuracy on Epoch 5: 0.8255264163017273\n",
      "epoch 6, 18.756827354431152s\n",
      "Accuracy on batch 100: 0.8020833134651184\n",
      "Accuracy on batch 200: 0.7916666865348816\n",
      "Accuracy on batch 300: 0.8229167461395264\n",
      "Accuracy on batch 400: 0.7708333730697632\n",
      "Accuracy on batch 500: 0.8020833730697632\n",
      "Accuracy on batch 600: 0.8125\n",
      "epoch loss sum: 64.55376064777374\n",
      "tensor([[1.0686e-01, 1.0455e-02, 9.1788e-04, 1.6157e-05, 8.8174e-01, 9.6995e-06],\n",
      "        [1.4848e-04, 1.4730e-04, 9.9926e-01, 3.5947e-06, 4.3773e-04, 1.5364e-06],\n",
      "        [7.9116e-04, 3.3319e-04, 9.9734e-01, 3.6315e-05, 1.4878e-03, 1.1518e-05]],\n",
      "       device='cuda:0', grad_fn=<SoftmaxBackward0>)\n",
      "Validation accuracy on Epoch 6: 0.8273358345031738\n",
      "epoch 7, 21.754329442977905s\n",
      "Accuracy on batch 100: 0.8854166865348816\n",
      "Accuracy on batch 200: 0.8125000596046448\n",
      "Accuracy on batch 300: 0.8333333730697632\n",
      "Accuracy on batch 400: 0.8125000596046448\n",
      "Accuracy on batch 500: 0.8541666269302368\n",
      "Accuracy on batch 600: 0.8125\n",
      "epoch loss sum: 64.3807199075818\n",
      "tensor([[1.1045e-01, 1.3047e-02, 5.8250e-03, 1.6818e-05, 8.7066e-01, 5.6516e-06],\n",
      "        [2.6859e-01, 1.4089e-01, 1.2036e-01, 2.2971e-02, 4.3027e-01, 1.6919e-02],\n",
      "        [1.2565e-04, 1.1489e-04, 9.9955e-01, 6.1489e-06, 1.9812e-04, 9.2320e-07]],\n",
      "       device='cuda:0', grad_fn=<SoftmaxBackward0>)\n",
      "Validation accuracy on Epoch 7: 0.8298954963684082\n",
      "epoch 8, 24.765211582183838s\n",
      "Accuracy on batch 100: 0.84375\n",
      "Accuracy on batch 200: 0.8541667461395264\n",
      "Accuracy on batch 300: 0.84375\n",
      "Accuracy on batch 400: 0.8333333730697632\n",
      "Accuracy on batch 500: 0.8541666865348816\n",
      "Accuracy on batch 600: 0.7604166865348816\n",
      "epoch loss sum: 64.15009473264217\n",
      "tensor([[2.0437e-01, 9.0597e-02, 1.1691e-01, 3.2713e-03, 5.8288e-01, 1.9761e-03],\n",
      "        [2.1557e-01, 4.0959e-02, 1.0604e-02, 1.5446e-04, 7.3263e-01, 7.7452e-05],\n",
      "        [1.5879e-02, 1.1164e-02, 9.4803e-01, 4.4762e-04, 2.4415e-02, 6.5319e-05]],\n",
      "       device='cuda:0', grad_fn=<SoftmaxBackward0>)\n",
      "Validation accuracy on Epoch 8: 0.8323291540145874\n",
      "epoch 9, 27.778817415237427s\n",
      "Accuracy on batch 100: 0.7604166865348816\n",
      "Accuracy on batch 200: 0.8541666865348816\n",
      "Accuracy on batch 300: 0.875\n",
      "Accuracy on batch 400: 0.8125\n",
      "Accuracy on batch 500: 0.8020833134651184\n",
      "Accuracy on batch 600: 0.7604166269302368\n",
      "epoch loss sum: 63.81002522011598\n",
      "tensor([[1.8600e-06, 3.5466e-06, 9.9999e-01, 3.7186e-07, 2.7786e-06, 1.8513e-08],\n",
      "        [8.0817e-06, 1.5177e-05, 9.9994e-01, 2.7124e-07, 3.3714e-05, 1.0405e-08],\n",
      "        [1.2796e-01, 2.8202e-02, 3.9547e-02, 3.6903e-05, 8.0425e-01, 7.9787e-06]],\n",
      "       device='cuda:0', grad_fn=<SoftmaxBackward0>)\n",
      "Validation accuracy on Epoch 9: 0.8316326141357422\n",
      "epoch 10, 30.78069257736206s\n",
      "Accuracy on batch 100: 0.7708333134651184\n",
      "Accuracy on batch 200: 0.90625\n",
      "Accuracy on batch 300: 0.7916666865348816\n",
      "Accuracy on batch 400: 0.8333333730697632\n",
      "Accuracy on batch 500: 0.84375\n",
      "Accuracy on batch 600: 0.8437500596046448\n",
      "epoch loss sum: 63.502013171712555\n",
      "tensor([[1.2869e-01, 2.7048e-02, 5.6754e-04, 3.7531e-06, 8.4369e-01, 4.3486e-07],\n",
      "        [2.8885e-01, 1.2865e-01, 1.5233e-01, 4.7918e-04, 4.2958e-01, 1.0758e-04],\n",
      "        [1.6611e-02, 1.6481e-03, 2.3888e-06, 1.3763e-08, 9.8174e-01, 2.5333e-09]],\n",
      "       device='cuda:0', grad_fn=<SoftmaxBackward0>)\n",
      "Validation accuracy on Epoch 10: 0.8327855467796326\n",
      "epoch 11, 33.78668928146362s\n",
      "Accuracy on batch 100: 0.8229166269302368\n",
      "Accuracy on batch 200: 0.8020833730697632\n",
      "Accuracy on batch 300: 0.7916666865348816\n",
      "Accuracy on batch 400: 0.8125\n",
      "Accuracy on batch 500: 0.8020833730697632\n",
      "Accuracy on batch 600: 0.8229166269302368\n",
      "epoch loss sum: 63.10700655231873\n",
      "tensor([[2.5376e-01, 1.2172e-01, 2.6711e-02, 1.8739e-04, 5.9758e-01, 4.2612e-05],\n",
      "        [1.2487e-01, 3.7351e-02, 1.0473e-02, 1.5817e-05, 8.2729e-01, 2.1073e-06],\n",
      "        [5.2145e-03, 7.4571e-03, 9.8048e-01, 3.1866e-04, 6.4765e-03, 4.9451e-05]],\n",
      "       device='cuda:0', grad_fn=<SoftmaxBackward0>)\n",
      "Validation accuracy on Epoch 11: 0.8351554870605469\n",
      "epoch 12, 36.774181604385376s\n",
      "Accuracy on batch 100: 0.875\n",
      "Accuracy on batch 200: 0.84375\n",
      "Accuracy on batch 300: 0.8333333730697632\n",
      "Accuracy on batch 400: 0.8229166269302368\n",
      "Accuracy on batch 500: 0.8333333134651184\n",
      "Accuracy on batch 600: 0.8645833730697632\n",
      "epoch loss sum: 62.656022138893604\n",
      "tensor([[4.6736e-01, 1.4289e-01, 2.5268e-03, 6.4540e-04, 3.8635e-01, 2.3044e-04],\n",
      "        [1.1893e-02, 1.1763e-03, 2.9035e-05, 3.4386e-09, 9.8690e-01, 4.0980e-10],\n",
      "        [6.4236e-06, 2.3513e-05, 9.9996e-01, 1.0560e-06, 6.1907e-06, 4.5762e-08]],\n",
      "       device='cuda:0', grad_fn=<SoftmaxBackward0>)\n",
      "Validation accuracy on Epoch 12: 0.8373850584030151\n",
      "epoch 13, 39.783448219299316s\n",
      "Accuracy on batch 100: 0.78125\n",
      "Accuracy on batch 200: 0.8541666269302368\n",
      "Accuracy on batch 300: 0.84375\n",
      "Accuracy on batch 400: 0.84375\n",
      "Accuracy on batch 500: 0.8958333134651184\n",
      "Accuracy on batch 600: 0.8645833730697632\n",
      "epoch loss sum: 62.29602592190107\n",
      "tensor([[1.3561e-05, 7.2726e-05, 9.9989e-01, 9.3830e-07, 2.0466e-05, 1.7525e-08],\n",
      "        [3.0844e-01, 2.0845e-01, 2.0549e-01, 1.8675e-03, 2.7543e-01, 3.3265e-04],\n",
      "        [3.2809e-01, 3.0926e-01, 2.0059e-01, 3.4000e-02, 1.1463e-01, 1.3437e-02]],\n",
      "       device='cuda:0', grad_fn=<SoftmaxBackward0>)\n",
      "Validation accuracy on Epoch 13: 0.8394765853881836\n",
      "epoch 14, 42.77278161048889s\n",
      "Accuracy on batch 100: 0.8125000596046448\n",
      "Accuracy on batch 200: 0.7916667461395264\n",
      "Accuracy on batch 300: 0.8333333134651184\n",
      "Accuracy on batch 400: 0.7916666269302368\n",
      "Accuracy on batch 500: 0.8541666865348816\n",
      "Accuracy on batch 600: 0.7708333134651184\n",
      "epoch loss sum: 61.86243132750193\n",
      "tensor([[4.6720e-01, 3.1825e-01, 6.3864e-02, 1.8445e-02, 1.2341e-01, 8.8353e-03],\n",
      "        [6.6049e-07, 4.1973e-06, 9.9999e-01, 1.8794e-07, 4.7083e-07, 3.3782e-09],\n",
      "        [1.3564e-01, 1.4743e-02, 6.7654e-05, 1.7938e-06, 8.4954e-01, 3.0272e-07]],\n",
      "       device='cuda:0', grad_fn=<SoftmaxBackward0>)\n",
      "Validation accuracy on Epoch 14: 0.8413735628128052\n",
      "epoch 15, 45.770692348480225s\n",
      "Accuracy on batch 100: 0.8124999403953552\n",
      "Accuracy on batch 200: 0.78125\n",
      "Accuracy on batch 300: 0.7916666865348816\n",
      "Accuracy on batch 400: 0.84375\n",
      "Accuracy on batch 500: 0.8854166865348816\n",
      "Accuracy on batch 600: 0.8229166865348816\n",
      "epoch loss sum: 61.63885932664076\n",
      "tensor([[1.4013e-02, 3.2031e-02, 9.4864e-01, 1.7227e-05, 5.2952e-03, 6.5260e-07],\n",
      "        [8.1664e-02, 2.0025e-02, 2.7120e-05, 4.3779e-07, 8.9828e-01, 6.0750e-08],\n",
      "        [1.7787e-01, 1.7870e-01, 1.3794e-01, 1.1667e-04, 5.0537e-01, 1.1006e-05]],\n",
      "       device='cuda:0', grad_fn=<SoftmaxBackward0>)\n",
      "Validation accuracy on Epoch 15: 0.8432518839836121\n",
      "epoch 16, 48.76269817352295s\n",
      "Accuracy on batch 100: 0.8229166269302368\n",
      "Accuracy on batch 200: 0.8854166865348816\n",
      "Accuracy on batch 300: 0.8437499403953552\n",
      "Accuracy on batch 400: 0.7916666865348816\n",
      "Accuracy on batch 500: 0.875\n",
      "Accuracy on batch 600: 0.8020833730697632\n",
      "epoch loss sum: 61.072606056928635\n",
      "tensor([[9.6966e-03, 1.4804e-02, 1.7485e-03, 2.8818e-08, 9.7375e-01, 8.9367e-10],\n",
      "        [9.8949e-02, 9.0961e-02, 7.3758e-02, 1.0471e-04, 7.3621e-01, 1.6910e-05],\n",
      "        [1.0728e-01, 4.8205e-01, 3.0202e-01, 4.2679e-05, 1.0860e-01, 1.4343e-06]],\n",
      "       device='cuda:0', grad_fn=<SoftmaxBackward0>)\n",
      "Validation accuracy on Epoch 16: 0.8449321985244751\n",
      "epoch 17, 51.82010054588318s\n",
      "Accuracy on batch 100: 0.8125\n",
      "Accuracy on batch 200: 0.90625\n",
      "Accuracy on batch 300: 0.8645833134651184\n",
      "Accuracy on batch 400: 0.8541666269302368\n",
      "Accuracy on batch 500: 0.8645833134651184\n",
      "Accuracy on batch 600: 0.8125000596046448\n",
      "epoch loss sum: 60.91684023787578\n",
      "tensor([[8.3000e-02, 1.2000e-01, 4.9851e-01, 2.4097e-05, 2.9846e-01, 8.6476e-07],\n",
      "        [2.6171e-01, 1.4166e-01, 4.1088e-02, 2.1356e-04, 5.5529e-01, 2.9086e-05],\n",
      "        [2.4774e-04, 1.3047e-03, 9.9774e-01, 3.3478e-04, 3.4894e-04, 2.8695e-05]],\n",
      "       device='cuda:0', grad_fn=<SoftmaxBackward0>)\n",
      "Validation accuracy on Epoch 17: 0.845950722694397\n",
      "epoch 18, 54.905574321746826s\n",
      "Accuracy on batch 100: 0.7916666865348816\n",
      "Accuracy on batch 200: 0.78125\n",
      "Accuracy on batch 300: 0.7916666865348816\n",
      "Accuracy on batch 400: 0.8229166865348816\n",
      "Accuracy on batch 500: 0.8645833730697632\n",
      "Accuracy on batch 600: 0.875\n",
      "epoch loss sum: 60.44310413797697\n",
      "tensor([[3.5879e-01, 6.0359e-01, 2.0179e-02, 1.9584e-03, 1.5227e-02, 2.6465e-04],\n",
      "        [3.6793e-01, 4.3853e-01, 8.0298e-02, 5.3287e-03, 1.0673e-01, 1.1886e-03],\n",
      "        [2.8425e-02, 8.8584e-02, 5.8958e-01, 1.9184e-05, 2.9339e-01, 8.0197e-07]],\n",
      "       device='cuda:0', grad_fn=<SoftmaxBackward0>)\n",
      "Validation accuracy on Epoch 18: 0.8471177816390991\n",
      "epoch 19, 57.95886540412903s\n",
      "Accuracy on batch 100: 0.8958333730697632\n",
      "Accuracy on batch 200: 0.8124999403953552\n",
      "Accuracy on batch 300: 0.8958332538604736\n",
      "Accuracy on batch 400: 0.8229166865348816\n",
      "Accuracy on batch 500: 0.8333333730697632\n",
      "Accuracy on batch 600: 0.875\n",
      "epoch loss sum: 60.17037786543369\n",
      "tensor([[1.3127e-02, 3.5036e-03, 1.4116e-04, 8.9595e-08, 9.8323e-01, 9.2113e-09],\n",
      "        [9.6263e-02, 1.6933e-01, 1.1193e-01, 5.6514e-06, 6.2247e-01, 2.0134e-07],\n",
      "        [5.8046e-02, 2.4894e-01, 1.2066e-04, 5.3328e-08, 6.9289e-01, 1.3608e-09]],\n",
      "       device='cuda:0', grad_fn=<SoftmaxBackward0>)\n",
      "Validation accuracy on Epoch 19: 0.8480952382087708\n",
      "epoch 20, 60.96084380149841s\n",
      "Accuracy on batch 100: 0.8854166865348816\n",
      "Accuracy on batch 200: 0.84375\n",
      "Accuracy on batch 300: 0.7708333134651184\n",
      "Accuracy on batch 400: 0.8333333134651184\n",
      "Accuracy on batch 500: 0.8854167461395264\n",
      "Accuracy on batch 600: 0.8958333134651184\n",
      "epoch loss sum: 59.56958770006895\n",
      "tensor([[7.7773e-02, 2.7668e-01, 6.0539e-01, 1.6759e-03, 3.8271e-02, 2.1026e-04],\n",
      "        [2.2681e-06, 3.7284e-05, 9.9996e-01, 1.1468e-06, 1.2852e-06, 2.9189e-08],\n",
      "        [2.0449e-02, 1.6720e-03, 6.1193e-05, 4.3414e-09, 9.7782e-01, 2.6185e-10]],\n",
      "       device='cuda:0', grad_fn=<SoftmaxBackward0>)\n",
      "Validation accuracy on Epoch 20: 0.8493682742118835\n",
      "epoch 21, 63.95710730552673s\n",
      "Accuracy on batch 100: 0.8958333730697632\n",
      "Accuracy on batch 200: 0.8958333730697632\n",
      "Accuracy on batch 300: 0.8958333730697632\n",
      "Accuracy on batch 400: 0.8333333730697632\n",
      "Accuracy on batch 500: 0.8645833134651184\n",
      "Accuracy on batch 600: 0.8854166865348816\n",
      "epoch loss sum: 59.42627881715695\n",
      "tensor([[1.7658e-02, 2.3591e-01, 7.3884e-01, 1.3985e-03, 6.0980e-03, 9.4572e-05],\n",
      "        [2.2260e-01, 1.2801e-01, 5.4925e-05, 1.7811e-06, 6.4933e-01, 2.2288e-07],\n",
      "        [8.2134e-02, 2.3244e-04, 4.7805e-08, 2.1687e-10, 9.1763e-01, 2.0724e-11]],\n",
      "       device='cuda:0', grad_fn=<SoftmaxBackward0>)\n",
      "Validation accuracy on Epoch 21: 0.8505874872207642\n",
      "epoch 22, 66.9512414932251s\n",
      "Accuracy on batch 100: 0.8541666865348816\n",
      "Accuracy on batch 200: 0.8125\n",
      "Accuracy on batch 300: 0.875\n",
      "Accuracy on batch 400: 0.8958333730697632\n",
      "Accuracy on batch 500: 0.84375\n",
      "Accuracy on batch 600: 0.8541666269302368\n",
      "epoch loss sum: 58.85268262773752\n",
      "tensor([[1.0082e-01, 6.1613e-01, 2.3152e-01, 5.4432e-04, 5.0953e-02, 2.7452e-05],\n",
      "        [7.2690e-02, 8.6406e-01, 5.9047e-02, 2.0167e-04, 3.9999e-03, 5.2715e-06],\n",
      "        [1.2759e-01, 5.8064e-02, 9.9090e-03, 3.6243e-06, 8.0443e-01, 2.2773e-07]],\n",
      "       device='cuda:0', grad_fn=<SoftmaxBackward0>)\n",
      "Validation accuracy on Epoch 22: 0.8517725467681885\n",
      "epoch 23, 69.95979189872742s\n",
      "Accuracy on batch 100: 0.8749999403953552\n",
      "Accuracy on batch 200: 0.8229166269302368\n",
      "Accuracy on batch 300: 0.8541666269302368\n",
      "Accuracy on batch 400: 0.8541666269302368\n",
      "Accuracy on batch 500: 0.8854166865348816\n",
      "Accuracy on batch 600: 0.84375\n",
      "epoch loss sum: 58.31198698530594\n",
      "tensor([[2.1989e-08, 1.1377e-06, 1.0000e+00, 6.1061e-08, 4.0837e-09, 3.3925e-10],\n",
      "        [7.6602e-06, 7.4088e-05, 9.9987e-01, 5.8562e-06, 3.8271e-05, 1.9194e-07],\n",
      "        [1.2626e-08, 1.8866e-06, 1.0000e+00, 2.9343e-08, 3.4402e-09, 2.4801e-10]],\n",
      "       device='cuda:0', grad_fn=<SoftmaxBackward0>)\n",
      "Validation accuracy on Epoch 23: 0.8528668284416199\n",
      "epoch 24, 72.9498188495636s\n",
      "Accuracy on batch 100: 0.8958333134651184\n",
      "Accuracy on batch 200: 0.875\n",
      "Accuracy on batch 300: 0.90625\n",
      "Accuracy on batch 400: 0.90625\n",
      "Accuracy on batch 500: 0.8229166865348816\n",
      "Accuracy on batch 600: 0.9062500596046448\n",
      "epoch loss sum: 57.984951128562294\n",
      "tensor([[9.8978e-01, 3.7999e-03, 6.0289e-06, 4.0503e-06, 6.4093e-03, 5.2884e-07],\n",
      "        [7.1841e-02, 8.8709e-03, 9.0068e-03, 2.9156e-06, 9.1028e-01, 1.7232e-07],\n",
      "        [1.5226e-03, 4.1077e-02, 9.5529e-01, 5.9812e-06, 2.1003e-03, 4.3763e-08]],\n",
      "       device='cuda:0', grad_fn=<SoftmaxBackward0>)\n",
      "Validation accuracy on Epoch 24: 0.8541690707206726\n",
      "epoch 25, 75.94154763221741s\n",
      "Accuracy on batch 100: 0.8229167461395264\n",
      "Accuracy on batch 200: 0.8854166269302368\n",
      "Accuracy on batch 300: 0.8645833730697632\n",
      "Accuracy on batch 400: 0.8854166269302368\n",
      "Accuracy on batch 500: 0.90625\n",
      "Accuracy on batch 600: 0.8437499403953552\n",
      "epoch loss sum: 57.634456706543766\n",
      "tensor([[3.3285e-06, 2.2697e-07, 6.2598e-10, 2.9103e-15, 1.0000e+00, 5.9840e-17],\n",
      "        [4.6756e-08, 4.8798e-07, 1.0000e+00, 8.6550e-08, 7.8315e-07, 8.3717e-10],\n",
      "        [2.3827e-02, 6.4049e-04, 2.9737e-09, 9.7818e-12, 9.7553e-01, 6.4426e-13]],\n",
      "       device='cuda:0', grad_fn=<SoftmaxBackward0>)\n",
      "Validation accuracy on Epoch 25: 0.8554122447967529\n",
      "epoch 26, 78.93649387359619s\n",
      "Accuracy on batch 100: 0.9166666269302368\n",
      "Accuracy on batch 200: 0.9375\n",
      "Accuracy on batch 300: 0.875\n",
      "Accuracy on batch 400: 0.8958333134651184\n",
      "Accuracy on batch 500: 0.8958333134651184\n",
      "Accuracy on batch 600: 0.8541666865348816\n",
      "epoch loss sum: 57.10903316984574\n",
      "tensor([[4.0734e-03, 4.3910e-02, 9.3387e-01, 1.6785e-03, 1.6352e-02, 1.1173e-04],\n",
      "        [4.4661e-02, 2.3674e-02, 2.1411e-02, 1.0263e-06, 9.1025e-01, 3.2090e-08],\n",
      "        [3.7804e-05, 6.1366e-03, 9.9337e-01, 3.1302e-06, 4.4857e-04, 5.6342e-08]],\n",
      "       device='cuda:0', grad_fn=<SoftmaxBackward0>)\n",
      "Validation accuracy on Epoch 26: 0.8566389679908752\n",
      "epoch 27, 81.92818474769592s\n",
      "Accuracy on batch 100: 0.9479167461395264\n",
      "Accuracy on batch 200: 0.8854167461395264\n",
      "Accuracy on batch 300: 0.8750000596046448\n",
      "Accuracy on batch 400: 0.9166666269302368\n",
      "Accuracy on batch 500: 0.8645833134651184\n",
      "Accuracy on batch 600: 0.8958333134651184\n",
      "epoch loss sum: 56.709401627381645\n",
      "tensor([[1.8170e-02, 1.4275e-03, 1.4617e-05, 4.4558e-09, 9.8039e-01, 1.0300e-10],\n",
      "        [7.8042e-01, 6.8776e-02, 8.7237e-02, 4.4991e-04, 6.3087e-02, 3.4027e-05],\n",
      "        [1.0942e-09, 1.1099e-07, 1.0000e+00, 1.4376e-08, 4.2329e-10, 3.4944e-11]],\n",
      "       device='cuda:0', grad_fn=<SoftmaxBackward0>)\n",
      "Validation accuracy on Epoch 27: 0.857732892036438\n",
      "epoch 28, 84.91752552986145s\n",
      "Accuracy on batch 100: 0.8333333730697632\n",
      "Accuracy on batch 200: 0.8958333134651184\n",
      "Accuracy on batch 300: 0.8020833730697632\n",
      "Accuracy on batch 400: 0.8854166865348816\n",
      "Accuracy on batch 500: 0.8958333730697632\n",
      "Accuracy on batch 600: 0.9166666865348816\n",
      "epoch loss sum: 56.60703107714653\n",
      "tensor([[8.4337e-06, 1.7389e-07, 3.6743e-11, 2.7001e-15, 9.9999e-01, 6.7600e-17],\n",
      "        [9.9848e-01, 9.6825e-04, 1.5452e-07, 8.5493e-08, 5.5508e-04, 1.1910e-08],\n",
      "        [1.4429e-02, 3.5483e-02, 9.3583e-01, 2.3505e-03, 1.1708e-02, 2.0153e-04]],\n",
      "       device='cuda:0', grad_fn=<SoftmaxBackward0>)\n",
      "Validation accuracy on Epoch 28: 0.8587010502815247\n",
      "epoch 29, 87.90275812149048s\n",
      "Accuracy on batch 100: 0.8958333134651184\n",
      "Accuracy on batch 200: 0.9166666865348816\n",
      "Accuracy on batch 300: 0.8229166269302368\n",
      "Accuracy on batch 400: 0.875\n",
      "Accuracy on batch 500: 0.8333333730697632\n",
      "Accuracy on batch 600: 0.8854167461395264\n",
      "epoch loss sum: 56.282325560847916\n",
      "tensor([[1.4566e-05, 2.5888e-07, 4.9644e-12, 1.1758e-14, 9.9999e-01, 6.6647e-16],\n",
      "        [4.4864e-08, 5.1050e-06, 9.9999e-01, 5.0890e-07, 9.3781e-09, 2.5878e-09],\n",
      "        [2.9561e-01, 1.0098e-01, 1.1918e-02, 3.4693e-05, 5.9145e-01, 2.1487e-06]],\n",
      "       device='cuda:0', grad_fn=<SoftmaxBackward0>)\n",
      "Validation accuracy on Epoch 29: 0.8598477244377136\n",
      "total Accuracy: 0.8369864225387573\n"
     ]
    }
   ],
   "source": [
    "training_loss_history = []\n",
    "validation_loss_history = []\n",
    "print('stating training...')\n",
    "start_time = time.time()\n",
    "rnn_model.to('cuda')\n",
    "\n",
    "# x_train1, y_train1 = next(iter(trainloader))\n",
    "\n",
    "for epoch in range(30): # epochs\n",
    "    print(f'epoch {epoch}, {time.time()-start_time}s')\n",
    "    curr_batch = 0\n",
    "    epoch_training_loss_sum=0\n",
    "    epoch_val_loss_sum=0\n",
    "    for x_train1, y_train1 in trainloader: # iterate over dataset with batches(10 per batch)\n",
    "        curr_batch += 1\n",
    "        x_train1.to('cuda')\n",
    "        y_train1.to('cuda')\n",
    "        \n",
    "        optimizer.zero_grad()\n",
    "        output = rnn_model.forward(x_train1)\n",
    "    #         print(output.shape)\n",
    "    #         print(y_train1.shape)\n",
    "        train_acc = train_accuracy(output, y_train1)\n",
    "        loss = criterion(output, y_train1)\n",
    "        # print(f'loss is: {loss}')\n",
    "        loss.backward()\n",
    "        nn.utils.clip_grad_norm(rnn_model.parameters(), 5) \n",
    "        optimizer.step()\n",
    "        if (curr_batch%100==0):\n",
    "            print(f'Accuracy on batch {curr_batch}: {train_acc}')\n",
    "        epoch_training_loss_sum+=loss.item()/x_train1.shape[0]\n",
    "        \n",
    "    \n",
    "    print(f'epoch loss sum: {epoch_training_loss_sum}')\n",
    "    print(output)\n",
    "    \n",
    "    rnn_model.eval()\n",
    "    for x_val1, y_val1 in validationloader:\n",
    "\n",
    "        with torch.no_grad():\n",
    "            output = rnn_model.forward(x_val1)\n",
    "        loss = criterion(output, y_val1)\n",
    "        val_acc = val_accuracy(output, y_val1)\n",
    "        epoch_val_loss_sum+=loss.item()/x_val1.shape[0]\n",
    "        \n",
    "    rnn_model.train()\n",
    "    \n",
    "    print(f'Validation accuracy on Epoch {epoch}: {val_accuracy.compute()}')\n",
    "    validation_loss_history.append(loss/100)\n",
    "    \n",
    "    training_loss_history.append(epoch_training_loss_sum/100)\n",
    "print(f'total Accuracy: {train_accuracy.compute()}')"
   ]
  },
  {
   "cell_type": "code",
   "execution_count": 174,
   "id": "8dc2aeb3",
   "metadata": {},
   "outputs": [],
   "source": [
    "def sentence_to_numbers_not_padded(sentence): #embed sentence\n",
    "    words = sentence.lower().split()\n",
    "    embedded_words = np.zeros([len(words),300]) #text length 30, embed vector 300\n",
    "    j=0\n",
    "    for w in words:\n",
    "        embedded_words[j] = ft.get_word_vector(w)\n",
    "        j+=1\n",
    "    return embedded_words"
   ]
  },
  {
   "cell_type": "code",
   "execution_count": 345,
   "id": "6ca7c370",
   "metadata": {},
   "outputs": [],
   "source": [
    "test_accuracy = torchmetrics.Accuracy(task='multilabel',num_labels=n_categories, average='macro').to('cuda')"
   ]
  },
  {
   "cell_type": "code",
   "execution_count": 346,
   "id": "96df717c",
   "metadata": {},
   "outputs": [],
   "source": [
    "confmat = torchmetrics.ConfusionMatrix(task=\"multiclass\", num_classes=6).to('cuda')"
   ]
  },
  {
   "cell_type": "code",
   "execution_count": 347,
   "id": "d7641027",
   "metadata": {},
   "outputs": [],
   "source": [
    "testloader = torch.utils.data.DataLoader([ [x_test_tensor[i], y_test_tensor[i]] for i in range(len(y_test_tensor))], shuffle=True, batch_size=128)"
   ]
  },
  {
   "cell_type": "code",
   "execution_count": 348,
   "id": "2ccb10bc",
   "metadata": {},
   "outputs": [],
   "source": [
    "rnn_model.eval()\n",
    "for x_test1, y_test1 in testloader:\n",
    "    x_test1.to('cuda')\n",
    "    y_test1.to('cuda')\n",
    "    with torch.no_grad():\n",
    "        output_L = rnn_model.forward(x_test1)\n",
    "    test_acc = test_accuracy(output_L, y_test1)"
   ]
  },
  {
   "cell_type": "code",
   "execution_count": 349,
   "id": "daaba347",
   "metadata": {},
   "outputs": [
    {
     "data": {
      "text/plain": [
       "tensor(0.8846, device='cuda:0')"
      ]
     },
     "execution_count": 349,
     "metadata": {},
     "output_type": "execute_result"
    }
   ],
   "source": [
    "test_acc"
   ]
  },
  {
   "cell_type": "code",
   "execution_count": 313,
   "id": "03a26890",
   "metadata": {},
   "outputs": [],
   "source": [
    "for x_test1, y_test1 in testloader:\n",
    "    x_test1.to('cuda')\n",
    "    y_test1.to('cuda')\n",
    "    with torch.no_grad():\n",
    "        output_L = rnn_model.forward(x_test1)\n",
    "    confmat1 = confmat(output_L.argmax(), y_test1.argmax())"
   ]
  },
  {
   "cell_type": "code",
   "execution_count": 314,
   "id": "8d1c17d6",
   "metadata": {},
   "outputs": [
    {
     "data": {
      "text/plain": [
       "<AxesSubplot:>"
      ]
     },
     "execution_count": 314,
     "metadata": {},
     "output_type": "execute_result"
    },
    {
     "data": {
      "image/png": "[encoded data removed]",
      "text/plain": [
       "<Figure size 432x288 with 2 Axes>"
      ]
     },
     "metadata": {
      "needs_background": "light"
     },
     "output_type": "display_data"
    }
   ],
   "source": [
    "sns.heatmap(confmat.to('cpu').compute(),annot=True,fmt='d')"
   ]
  },
  {
   "cell_type": "code",
   "execution_count": 179,
   "id": "0120e7a1",
   "metadata": {},
   "outputs": [],
   "source": [
    "labels_arr = ['anger', 'fear', 'joy', 'love', 'sadness', 'surprise']"
   ]
  },
  {
   "cell_type": "code",
   "execution_count": 264,
   "id": "d96bc6be",
   "metadata": {},
   "outputs": [],
   "source": [
    "sentence = df_test.iloc[301]\n",
    "# print(sentence.Text)\n",
    "# print(sentence.Label)\n",
    "test_example=torch.tensor(sentence_to_numbers('foking bastard')).unsqueeze(0).to('cuda')"
   ]
  },
  {
   "cell_type": "code",
   "execution_count": 265,
   "id": "30875f11",
   "metadata": {},
   "outputs": [
    {
     "data": {
      "text/plain": [
       "'anger'"
      ]
     },
     "execution_count": 265,
     "metadata": {},
     "output_type": "execute_result"
    }
   ],
   "source": [
    "with torch.no_grad():\n",
    "    output_L=rnn_model.forward(test_example)\n",
    "labels_arr[output_L.cpu().numpy().argmax()]"
   ]
  },
  {
   "cell_type": "code",
   "execution_count": 186,
   "id": "649a5da1",
   "metadata": {},
   "outputs": [
    {
     "data": {
      "text/plain": [
       "torch.Size([51, 6])"
      ]
     },
     "execution_count": 186,
     "metadata": {},
     "output_type": "execute_result"
    }
   ],
   "source": [
    "output.shape"
   ]
  },
  {
   "cell_type": "code",
   "execution_count": 396,
   "id": "d59a5002",
   "metadata": {},
   "outputs": [
    {
     "data": {
      "text/plain": [
       "[2.749933310796817,\n",
       " 2.7260044860343142,\n",
       " 2.7253656663000583,\n",
       " 2.7098835367461045,\n",
       " 2.6647939603527386,\n",
       " 2.62095024223129,\n",
       " 2.6068928170700865,\n",
       " 2.5963211798171204,\n",
       " 2.5924199677010376,\n",
       " 2.587412731995185,\n",
       " 2.5827957604825498,\n",
       " 2.5772997366388637,\n",
       " 2.573173531989257,\n",
       " 2.5693880664805575,\n",
       " 2.568655946503083]"
      ]
     },
     "execution_count": 396,
     "metadata": {},
     "output_type": "execute_result"
    }
   ],
   "source": [
    "training_loss_history"
   ]
  },
  {
   "cell_type": "code",
   "execution_count": null,
   "id": "e9697624",
   "metadata": {},
   "outputs": [],
   "source": []
  }
 ],
 "metadata": {
  "kernelspec": {
   "display_name": "Python 3",
   "language": "python",
   "name": "python3"
  },
  "language_info": {
   "codemirror_mode": {
    "name": "ipython",
    "version": 3
   },
   "file_extension": ".py",
   "mimetype": "text/x-python",
   "name": "python",
   "nbconvert_exporter": "python",
   "pygments_lexer": "ipython3",
   "version": "3.9.13"
  },
  "vscode": {
   "interpreter": {
    "hash": "1fffbd4db462844160f837c1fd7814851fe0d543fd688e39cc506f0ffd4d1d0f"
   }
  }
 },
 "nbformat": 4,
 "nbformat_minor": 5
}
