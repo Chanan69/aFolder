{
 "cells": [
  {
   "cell_type": "code",
   "execution_count": 1,
   "id": "4bc9c1ff",
   "metadata": {},
   "outputs": [],
   "source": [
    "import numpy as np\n",
    "import pandas as pd\n",
    "import matplotlib.pyplot as plt\n",
    "import seaborn as sns\n",
    "from scipy import stats\n",
    "import tensorflow as tf\n",
    "from tensorflow.keras import Sequential\n",
    "from tensorflow.keras.layers import Dense\n",
    "from sklearn.preprocessing import MinMaxScaler\n",
    "from sklearn.model_selection import train_test_split"
   ]
  },
  {
   "cell_type": "code",
   "execution_count": 48,
   "id": "4f575d8b",
   "metadata": {},
   "outputs": [],
   "source": [
    "df1 = pd.read_csv('mnist_train.csv')\n",
    "df2 = pd.read_csv('mnist_test.csv')"
   ]
  },
  {
   "cell_type": "code",
   "execution_count": 51,
   "id": "61029b6a",
   "metadata": {},
   "outputs": [],
   "source": [
    "X_train = df1.drop('5', axis=1).values\n",
    "y_train = df1['5'].values\n",
    "y_train = y_train.reshape(-1,1)\n",
    "X_test = df2.drop('7', axis=1).values\n",
    "y_test = df2['7'].values\n",
    "y_test = y_test.reshape(-1,1)"
   ]
  },
  {
   "cell_type": "code",
   "execution_count": 52,
   "id": "7018e4fd",
   "metadata": {},
   "outputs": [],
   "source": [
    "model = Sequential()\n",
    "model.add(Dense(150, input_shape=(X_train.shape[1],), kernel_initializer='he_normal', activation='relu'))\n",
    "model.add(Dense(10, activation='sigmoid'))"
   ]
  },
  {
   "cell_type": "code",
   "execution_count": 53,
   "id": "c6a6a979",
   "metadata": {},
   "outputs": [],
   "source": [
    "model.compile(loss='sparse_categorical_crossentropy', optimizer='adam', metrics=['accuracy'])"
   ]
  },
  {
   "cell_type": "code",
   "execution_count": 54,
   "id": "01471878",
   "metadata": {
    "scrolled": false
   },
   "outputs": [
    {
     "name": "stdout",
     "output_type": "stream",
     "text": [
      "Epoch 1/15\n",
      "240/240 [==============================] - 1s 2ms/step - loss: 8.5003 - accuracy: 0.8463\n",
      "Epoch 2/15\n",
      "240/240 [==============================] - 0s 2ms/step - loss: 1.3866 - accuracy: 0.9247\n",
      "Epoch 3/15\n",
      "240/240 [==============================] - 0s 2ms/step - loss: 0.7699 - accuracy: 0.9448\n",
      "Epoch 4/15\n",
      "240/240 [==============================] - 0s 2ms/step - loss: 0.4952 - accuracy: 0.9548\n",
      "Epoch 5/15\n",
      "240/240 [==============================] - 0s 2ms/step - loss: 0.3425 - accuracy: 0.9636\n",
      "Epoch 6/15\n",
      "240/240 [==============================] - 0s 2ms/step - loss: 0.2577 - accuracy: 0.9688\n",
      "Epoch 7/15\n",
      "240/240 [==============================] - 0s 2ms/step - loss: 0.1890 - accuracy: 0.9744\n",
      "Epoch 8/15\n",
      "240/240 [==============================] - 0s 2ms/step - loss: 0.1521 - accuracy: 0.9774\n",
      "Epoch 9/15\n",
      "240/240 [==============================] - 0s 2ms/step - loss: 0.1282 - accuracy: 0.9794\n",
      "Epoch 10/15\n",
      "240/240 [==============================] - 0s 2ms/step - loss: 0.1187 - accuracy: 0.9812\n",
      "Epoch 11/15\n",
      "240/240 [==============================] - 0s 2ms/step - loss: 0.1106 - accuracy: 0.9818\n",
      "Epoch 12/15\n",
      "240/240 [==============================] - 0s 2ms/step - loss: 0.1027 - accuracy: 0.9827\n",
      "Epoch 13/15\n",
      "240/240 [==============================] - 0s 2ms/step - loss: 0.1001 - accuracy: 0.9831\n",
      "Epoch 14/15\n",
      "240/240 [==============================] - 0s 2ms/step - loss: 0.0831 - accuracy: 0.9849\n",
      "Epoch 15/15\n",
      "240/240 [==============================] - 0s 2ms/step - loss: 0.0955 - accuracy: 0.9837\n"
     ]
    },
    {
     "data": {
      "text/plain": [
       "<keras.callbacks.History at 0x1fa80288940>"
      ]
     },
     "execution_count": 54,
     "metadata": {},
     "output_type": "execute_result"
    }
   ],
   "source": [
    "model.fit(X_train, y_train, epochs=15, batch_size=250, verbose=1)"
   ]
  },
  {
   "cell_type": "code",
   "execution_count": 55,
   "id": "0fa3643f",
   "metadata": {},
   "outputs": [
    {
     "name": "stdout",
     "output_type": "stream",
     "text": [
      "313/313 [==============================] - 0s 795us/step - loss: 0.5623 - accuracy: 0.9570\n"
     ]
    }
   ],
   "source": [
    "accuracy = model.evaluate(X_test, y_test)"
   ]
  },
  {
   "cell_type": "code",
   "execution_count": 56,
   "id": "9618cf51",
   "metadata": {
    "scrolled": false
   },
   "outputs": [
    {
     "data": {
      "text/plain": [
       "7"
      ]
     },
     "execution_count": 56,
     "metadata": {},
     "output_type": "execute_result"
    }
   ],
   "source": [
    "y_pred = model.predict(X_test)\n",
    "np.argmax(y_pred[78])"
   ]
  },
  {
   "cell_type": "code",
   "execution_count": 57,
   "id": "5bfab5f9",
   "metadata": {},
   "outputs": [
    {
     "data": {
      "text/plain": [
       "<matplotlib.image.AxesImage at 0x1fa971b7a00>"
      ]
     },
     "execution_count": 57,
     "metadata": {},
     "output_type": "execute_result"
    },
    {
     "data": {
      "image/png": "[encoded data removed]",
      "text/plain": [
       "<Figure size 432x288 with 1 Axes>"
      ]
     },
     "metadata": {
      "needs_background": "light"
     },
     "output_type": "display_data"
    }
   ],
   "source": [
    "plt.imshow(X_test[78].reshape(28,28))"
   ]
  },
  {
   "cell_type": "code",
   "execution_count": null,
   "id": "09a85b37",
   "metadata": {},
   "outputs": [],
   "source": []
  }
 ],
 "metadata": {
  "kernelspec": {
   "display_name": "Python 3 (ipykernel)",
   "language": "python",
   "name": "python3"
  },
  "language_info": {
   "codemirror_mode": {
    "name": "ipython",
    "version": 3
   },
   "file_extension": ".py",
   "mimetype": "text/x-python",
   "name": "python",
   "nbconvert_exporter": "python",
   "pygments_lexer": "ipython3",
   "version": "3.9.7"
  }
 },
 "nbformat": 4,
 "nbformat_minor": 5
}
